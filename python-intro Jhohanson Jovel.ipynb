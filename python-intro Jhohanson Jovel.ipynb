{
 "cells": [
  {
   "cell_type": "code",
   "execution_count": null,
   "id": "7ca36932-7506-480e-b6df-1bdfecbdfcfc",
   "metadata": {
    "tags": []
   },
   "outputs": [
    {
     "name": "stdout",
     "output_type": "stream",
     "text": [
      "¿Cómo deseas ordenar los datos?\n",
      "1. Ordenar por edad\n",
      "2. Ordenar por número de hermanos\n",
      "3. Ordenar por cantidad de deportes practicados\n",
      "4. Ordenar por estrato\n",
      "5. Salir\n"
     ]
    }
   ],
   "source": [
    "import pandas as pd \n",
    "\n",
    "df = pd.read_csv(\"Datos.csv\")\n",
    "\n",
    "def opciones():\n",
    "    print(\"¿Cómo deseas ordenar los datos?\")\n",
    "    print(\"1. Ordenar por edad\")\n",
    "    print(\"2. Ordenar por número de hermanos\")\n",
    "    print(\"3. Ordenar por cantidad de deportes practicados\")\n",
    "    print(\"4. Ordenar por estrato\")\n",
    "    print(\"5. Salir\")\n",
    "\n",
    "    opcion = int(input(\"Digite la opción deseada: \"))\n",
    "    return opcion\n",
    "\n",
    "def ordenar_columna(df, columna, orden):\n",
    "    if orden == \"ascendente\":\n",
    "        df = df.sort_values(columna, ascending=True)\n",
    "    elif orden == \"descendente\":\n",
    "        df = df.sort_values(columna, ascending=False)\n",
    "    else:\n",
    "        print(\"No existe la opción escrita\")\n",
    "        return\n",
    "\n",
    "    print(df.to_string())\n",
    "\n",
    "def main():\n",
    "    while True:\n",
    "        opcion = opciones()\n",
    "        if opcion == 1:\n",
    "            columna = \"Edad\"\n",
    "        elif opcion == 2:\n",
    "            columna = \"# De hermanos\"\n",
    "        elif opcion == 3:\n",
    "            columna = \"Deportes practicados\"\n",
    "        elif opcion == 4:\n",
    "            columna = \"# De estrato\"\n",
    "        elif opcion == 5:\n",
    "            break\n",
    "        else:\n",
    "            print(\"Opción no válida.\")\n",
    "            continue\n",
    "\n",
    "        orden = input(\"Digite el tipo de ordenamiento (ascendente o descendente): \")\n",
    "        ordenar_columna(df.copy(), columna, orden)\n",
    "\n",
    "if __name__ == \"__main__\":\n",
    "    main()\n"
   ]
  },
  {
   "cell_type": "markdown",
   "id": "f148c113-a987-46a6-93d7-31233301a5ba",
   "metadata": {},
   "source": [
    "##### "
   ]
  }
 ],
 "metadata": {
  "kernelspec": {
   "display_name": "Python 3 (ipykernel)",
   "language": "python",
   "name": "python3"
  },
  "language_info": {
   "codemirror_mode": {
    "name": "ipython",
    "version": 3
   },
   "file_extension": ".py",
   "mimetype": "text/x-python",
   "name": "python",
   "nbconvert_exporter": "python",
   "pygments_lexer": "ipython3",
   "version": "3.11.5"
  }
 },
 "nbformat": 4,
 "nbformat_minor": 5
}
